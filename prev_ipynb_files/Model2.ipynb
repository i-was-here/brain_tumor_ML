{
 "cells": [
  {
   "cell_type": "code",
   "execution_count": 1,
   "metadata": {},
   "outputs": [],
   "source": [
    "import pandas as pd\n",
    "import numpy as np\n",
    "import matplotlib.pyplot as plt\n",
    "import cv2\n",
    "from pathlib import Path\n",
    "import os\n",
    "import glob\n",
    "%matplotlib inline"
   ]
  },
  {
   "cell_type": "code",
   "execution_count": 2,
   "metadata": {},
   "outputs": [],
   "source": [
    "import torch\n",
    "import torch.nn as nn\n",
    "import torch.nn.functional as F\n",
    "from torchvision import datasets,transforms\n",
    "from torch.utils.data import DataLoader\n",
    "from torchvision.utils import make_grid\n",
    "from matplotlib.animation import FuncAnimation"
   ]
  },
  {
   "cell_type": "code",
   "execution_count": 3,
   "metadata": {},
   "outputs": [],
   "source": [
    "import nibabel as nib\n",
    "from celluloid import Camera\n",
    "from IPython.display import HTML\n",
    "from tqdm.notebook import tqdm\n",
    "import imgaug\n",
    "from imgaug.augmentables.segmaps import SegmentationMapsOnImage\n",
    "import imgaug.augmenters as iaa"
   ]
  },
  {
   "cell_type": "code",
   "execution_count": 4,
   "metadata": {},
   "outputs": [],
   "source": [
    "# Creating Dataset Class\n",
    "class Dataset(torch.utils.data.Dataset):\n",
    "    def __init__(self, root, augment_params):\n",
    "        self.all_files = self.extract_files(root)\n",
    "        self.augment_params = augment_params\n",
    "    \n",
    "    # Extract the paths to all slices given the root path (ends with train or val)\n",
    "    @staticmethod\n",
    "    def extract_files(root):\n",
    "        files = []\n",
    "        for subject in root.glob(\"*\"):   # Iterate over the subjects\n",
    "            slice_path = subject/\"data\"  # Get the slices for current subject\n",
    "            for slice in slice_path.glob(\"*.npy\"):\n",
    "                files.append(slice)\n",
    "        return files\n",
    "    \n",
    "    # Replace data with mask to get the masks    \n",
    "    @staticmethod\n",
    "    def change_img_to_label_path(path):\n",
    "\n",
    "        parts = list(path.parts)\n",
    "        parts[parts.index(\"data\")] = \"masks\"\n",
    "        return Path(*parts)\n",
    "\n",
    "    # Augments slice and segmentation mask in the exact same way\n",
    "    def augment(self, slice, mask):\n",
    "\n",
    "        random_seed = torch.randint(0, 1000000, (1,)).item()\n",
    "        imgaug.seed(random_seed)\n",
    "\n",
    "        mask = SegmentationMapsOnImage(mask, mask.shape)\n",
    "        slice_aug, mask_aug = self.augment_params(image=slice, segmentation_maps=mask)\n",
    "        mask_aug = mask_aug.get_arr()\n",
    "        return slice_aug, mask_aug\n",
    "    \n",
    "    # Return the length of the dataset (length of all files)\n",
    "    def __len__(self):\n",
    "        return len(self.all_files)\n",
    "    \n",
    "    # Given an index return the (augmented) slice and corresponding mask\n",
    "    # Add another dimension for pytorch\n",
    "    def __getitem__(self, idx):\n",
    "\n",
    "        file_path = self.all_files[idx]\n",
    "        mask_path = self.change_img_to_label_path(file_path)\n",
    "        slice = np.load(file_path).astype(np.float32)  # Convert to float for torch\n",
    "        mask = np.load(mask_path)\n",
    "        \n",
    "        if self.augment_params:\n",
    "            slice, mask = self.augment(slice, mask)\n",
    "\n",
    "        return np.expand_dims(slice, 0), np.expand_dims(mask, 0)"
   ]
  },
  {
   "cell_type": "code",
   "execution_count": 5,
   "metadata": {},
   "outputs": [],
   "source": [
    "# Transformation\n",
    "seq = iaa.Sequential([\n",
    "    iaa.Affine(scale=(0.85, 1.15), # Zoom in or out\n",
    "               rotate=(-45, 45)),  # Rotate up to 45 degrees\n",
    "    iaa.ElasticTransformation()  # Random Elastic Deformations\n",
    "                ])"
   ]
  },
  {
   "cell_type": "code",
   "execution_count": 6,
   "metadata": {},
   "outputs": [],
   "source": [
    "# Create the dataset objects\n",
    "LGG_train = Path(\"Preprocessed/LGG/test\")\n",
    "LGG_test = Path(\"Preprocessed/LGG/test\")\n",
    "\n",
    "train_dataset = Dataset(train_path, seq)\n",
    "test_dataset = Dataset(test_path, None)"
   ]
  },
  {
   "cell_type": "code",
   "execution_count": null,
   "metadata": {},
   "outputs": [],
   "source": []
  }
 ],
 "metadata": {
  "interpreter": {
   "hash": "4ce0e62306dd6a5716965d4519ada776f947e6dfc145b604b11307c10277ef29"
  },
  "kernelspec": {
   "display_name": "Python 3.9.7 64-bit",
   "language": "python",
   "name": "python3"
  },
  "language_info": {
   "codemirror_mode": {
    "name": "ipython",
    "version": 3
   },
   "file_extension": ".py",
   "mimetype": "text/x-python",
   "name": "python",
   "nbconvert_exporter": "python",
   "pygments_lexer": "ipython3",
   "version": "3.9.7"
  },
  "orig_nbformat": 4
 },
 "nbformat": 4,
 "nbformat_minor": 2
}
