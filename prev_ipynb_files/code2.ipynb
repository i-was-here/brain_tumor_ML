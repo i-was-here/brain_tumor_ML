{
 "cells": [
  {
   "cell_type": "code",
   "execution_count": 6,
   "metadata": {},
   "outputs": [],
   "source": [
    "import pandas as pd\n",
    "import numpy as np\n",
    "import matplotlib.pyplot as plt\n",
    "import cv2\n",
    "from pathlib import Path\n",
    "import os\n",
    "import glob\n",
    "%matplotlib inline"
   ]
  },
  {
   "cell_type": "code",
   "execution_count": 7,
   "metadata": {},
   "outputs": [],
   "source": [
    "import torch\n",
    "import torch.nn as nn\n",
    "import torch.nn.functional as F\n",
    "from torchvision import datasets,transforms\n",
    "from torch.utils.data import DataLoader\n",
    "from torchvision.utils import make_grid\n",
    "from matplotlib.animation import FuncAnimation"
   ]
  },
  {
   "cell_type": "code",
   "execution_count": 8,
   "metadata": {},
   "outputs": [],
   "source": [
    "import nibabel as nib\n",
    "from celluloid import Camera\n",
    "from IPython.display import HTML\n",
    "from tqdm.notebook import tqdm\n",
    "import imgaug\n",
    "from imgaug.augmentables.segmaps import SegmentationMapsOnImage\n",
    "import imgaug.augmenters as iaa"
   ]
  },
  {
   "cell_type": "code",
   "execution_count": 33,
   "metadata": {},
   "outputs": [],
   "source": [
    "hgg = glob.glob(\"D:\\\\Projects\\\\Brain_Tumor_ML\\\\brain_tumor_ML\\\\HGG\\\\Bra*\\\\*t1.nii*\")\n",
    "mask_hgg = glob.glob(\"D:\\\\Projects\\\\Brain_Tumor_ML\\\\brain_tumor_ML\\\\LGG\\\\Bra*\\\\*seg.nii*\")"
   ]
  },
  {
   "cell_type": "code",
   "execution_count": 37,
   "metadata": {},
   "outputs": [
    {
     "name": "stderr",
     "output_type": "stream",
     "text": [
      "D:\\Python\\lib\\site-packages\\matplotlib\\image.py:443: UserWarning: Warning: converting a masked element to nan.\n",
      "  dv = np.float64(self.norm.vmax) - np.float64(self.norm.vmin)\n",
      "D:\\Python\\lib\\site-packages\\matplotlib\\image.py:444: UserWarning: Warning: converting a masked element to nan.\n",
      "  vmid = np.float64(self.norm.vmin) + dv / 2\n"
     ]
    },
    {
     "data": {
      "image/png": "[encoded data removed]",
      "text/plain": [
       "<Figure size 432x288 with 1 Axes>"
      ]
     },
     "metadata": {
      "needs_background": "light"
     },
     "output_type": "display_data"
    }
   ],
   "source": [
    "sample_path = hgg[40]\n",
    "sample_path_label = mask_hgg[40]\n",
    "\n",
    "data = nib.load(sample_path)\n",
    "label = nib.load(sample_path_label)\n",
    "\n",
    "mri = data.get_fdata()\n",
    "mask = label.get_fdata().astype(np.uint8)\n",
    "\n",
    "#  Plotting Sample Image\n",
    "fig = plt.figure()\n",
    "camera = Camera(fig)  # Create the camera object from celluloid\n",
    "\n",
    "for i in range(mri.shape[2]):  # Sagital view\n",
    "    plt.imshow(mri[:,:,i],cmap=plt.bone())\n",
    "    mask_ = np.ma.masked_where(mask[:,:,i]==0, mask[:,:,i])\n",
    "    plt.imshow(mask_, alpha=1, cmap=plt.hot())\n",
    "    camera.snap()  # Store the current slice\n",
    "\n",
    "animation = camera.animate(blit=False, interval=1) # Create the animation\n",
    "animation.save('test2.gif')"
   ]
  },
  {
   "cell_type": "code",
   "execution_count": 38,
   "metadata": {},
   "outputs": [],
   "source": [
    "# For Normalization of 3D Image\n",
    "def normalize(full_volume):\n",
    "    normal = (full_volume - full_volume.min()) / (full_volume.max() - full_volume.min())\n",
    "    return normal\n",
    "\n",
    "# For Standardization of 3D Image\n",
    "def standardize(data):\n",
    "    mu = data.mean()\n",
    "    std = np.std(data)\n",
    "    standard = (data - mu) / std\n",
    "    return standard"
   ]
  },
  {
   "cell_type": "code",
   "execution_count": 42,
   "metadata": {},
   "outputs": [],
   "source": [
    "# Preprocessing Image with train test split\n",
    "save_root = Path(\"Preprocessed\\HGG\")\n",
    "\n",
    "for j in range(len(hgg)):\n",
    "    mri = nib.load(hgg[j])\n",
    "    # assert nib.aff2axcodes(mri.affine) == (\"R\", \"A\", \"S\")    \n",
    "    mri_data = mri.get_fdata()\n",
    "    label_data = nib.load(mask_hgg[j]).get_fdata().astype(np.uint8)\n",
    "\n",
    "    # Crop volume and label mask. Reduce 32 px from top and 32 px from bottom.\n",
    "    # Addtionally crop front and back with same size. Dont crop viewing axis\n",
    "    mri_data = mri_data[32:-32, 32:-32]\n",
    "    label_data = label_data[32:-32, 32:-32]\n",
    "\n",
    "    # Normalize and standardize the images\n",
    "    normalized_mri_data = normalize(mri_data)\n",
    "    standardized_mri_data = standardize(normalized_mri_data)\n",
    "\n",
    "    if j<60:\n",
    "        current_path = save_root/\"train\"/str(j)\n",
    "    else:\n",
    "        current_path = save_root/\"test\"/str(j)\n",
    "\n",
    "    # Loop over the slices in the full volume and store the images and labels in the data/masks directory\n",
    "    for i in range(standardized_mri_data.shape[-1]):\n",
    "        slice = standardized_mri_data[:,:,i]\n",
    "        mask = label_data[:,:,i]\n",
    "        slice_path = current_path/\"data\"\n",
    "        mask_path = current_path/\"masks\"\n",
    "        slice_path.mkdir(parents=True, exist_ok=True)\n",
    "        mask_path.mkdir(parents=True, exist_ok=True)\n",
    "        \n",
    "        np.save(slice_path/str(i), slice)\n",
    "        np.save(mask_path/str(i), mask)"
   ]
  },
  {
   "cell_type": "code",
   "execution_count": 20,
   "metadata": {},
   "outputs": [
    {
     "name": "stderr",
     "output_type": "stream",
     "text": [
      "D:\\Python\\lib\\site-packages\\matplotlib\\image.py:443: UserWarning: Warning: converting a masked element to nan.\n",
      "  dv = np.float64(self.norm.vmax) - np.float64(self.norm.vmin)\n",
      "D:\\Python\\lib\\site-packages\\matplotlib\\image.py:444: UserWarning: Warning: converting a masked element to nan.\n",
      "  vmid = np.float64(self.norm.vmin) + dv / 2\n"
     ]
    },
    {
     "data": {
      "image/png": "[encoded data removed]",
      "text/plain": [
       "<Figure size 432x288 with 1 Axes>"
      ]
     },
     "metadata": {
      "needs_background": "light"
     },
     "output_type": "display_data"
    }
   ],
   "source": [
    "# Plotting Preprocessed Image\n",
    "\n",
    "fig = plt.figure()\n",
    "camera = Camera(fig)  # Create the camera object from celluloid\n",
    "\n",
    "path = Path(\"Preprocessed/train/1/\")  # Select a subject\n",
    "for i in range(154):\n",
    "    # Choose a file and load slice + mask\n",
    "    file = str(i+1) + \".npy\"\n",
    "    slice = np.load(path/\"data\"/file)\n",
    "    mask = np.load(path/\"masks\"/file)# Plot everything\n",
    "    plt.imshow(slice, cmap=\"bone\")\n",
    "    mask_ = np.ma.masked_where(mask==0, mask)\n",
    "    plt.imshow(mask_, cmap=\"autumn\")\n",
    "    camera.snap()\n",
    "animate = camera.animate(blit=False, interval=1)\n",
    "animate.save('prep.gif')"
   ]
  },
  {
   "cell_type": "code",
   "execution_count": 40,
   "metadata": {},
   "outputs": [],
   "source": [
    "# Creating Dataset Class\n",
    "class Dataset(torch.utils.data.Dataset):\n",
    "    def __init__(self, root, augment_params):\n",
    "        self.all_files = self.extract_files(root)\n",
    "        self.augment_params = augment_params\n",
    "    \n",
    "    # Extract the paths to all slices given the root path (ends with train or val)\n",
    "    @staticmethod\n",
    "    def extract_files(root):\n",
    "        files = []\n",
    "        for subject in root.glob(\"*\"):   # Iterate over the subjects\n",
    "            slice_path = subject/\"data\"  # Get the slices for current subject\n",
    "            for slice in slice_path.glob(\"*.npy\"):\n",
    "                files.append(slice)\n",
    "        return files\n",
    "    \n",
    "    # Replace data with mask to get the masks    \n",
    "    @staticmethod\n",
    "    def change_img_to_label_path(path):\n",
    "\n",
    "        parts = list(path.parts)\n",
    "        parts[parts.index(\"data\")] = \"masks\"\n",
    "        return Path(*parts)\n",
    "\n",
    "    # Augments slice and segmentation mask in the exact same way\n",
    "    def augment(self, slice, mask):\n",
    "\n",
    "        random_seed = torch.randint(0, 1000000, (1,)).item()\n",
    "        imgaug.seed(random_seed)\n",
    "\n",
    "        mask = SegmentationMapsOnImage(mask, mask.shape)\n",
    "        slice_aug, mask_aug = self.augment_params(image=slice, segmentation_maps=mask)\n",
    "        mask_aug = mask_aug.get_arr()\n",
    "        return slice_aug, mask_aug\n",
    "    \n",
    "    # Return the length of the dataset (length of all files)\n",
    "    def __len__(self):\n",
    "        return len(self.all_files)\n",
    "    \n",
    "    # Given an index return the (augmented) slice and corresponding mask\n",
    "    # Add another dimension for pytorch\n",
    "    def __getitem__(self, idx):\n",
    "\n",
    "        file_path = self.all_files[idx]\n",
    "        mask_path = self.change_img_to_label_path(file_path)\n",
    "        slice = np.load(file_path).astype(np.float32)  # Convert to float for torch\n",
    "        mask = np.load(mask_path)\n",
    "        \n",
    "        if self.augment_params:\n",
    "            slice, mask = self.augment(slice, mask)\n",
    "\n",
    "        return np.expand_dims(slice, 0), np.expand_dims(mask, 0)"
   ]
  },
  {
   "cell_type": "code",
   "execution_count": 41,
   "metadata": {},
   "outputs": [],
   "source": [
    "# Transformation\n",
    "seq = iaa.Sequential([\n",
    "    iaa.Affine(scale=(0.85, 1.15), # Zoom in or out\n",
    "               rotate=(-45, 45)),  # Rotate up to 45 degrees\n",
    "    iaa.ElasticTransformation()  # Random Elastic Deformations\n",
    "                ])"
   ]
  },
  {
   "cell_type": "code",
   "execution_count": 63,
   "metadata": {},
   "outputs": [],
   "source": [
    "# Create the dataset objects\n",
    "train_path = Path(\"Preprocessed/train/\")\n",
    "test_path = Path(\"Preprocessed/test\")\n",
    "\n",
    "train_dataset = Dataset(train_path, seq)\n",
    "test_dataset = Dataset(test_path, None)"
   ]
  },
  {
   "cell_type": "code",
   "execution_count": 64,
   "metadata": {},
   "outputs": [],
   "source": [
    "batch_size = 8\n",
    "num_workers = 4\n",
    "\n",
    "train_loader = torch.utils.data.DataLoader(train_dataset, batch_size=batch_size, num_workers=num_workers, shuffle=True)\n",
    "val_loader = torch.utils.data.DataLoader(test_dataset, batch_size=batch_size, num_workers=num_workers, shuffle=False)"
   ]
  },
  {
   "cell_type": "code",
   "execution_count": null,
   "metadata": {},
   "outputs": [],
   "source": []
  }
 ],
 "metadata": {
  "kernelspec": {
   "display_name": "Python 3.8.10 64-bit",
   "language": "python",
   "name": "python3"
  },
  "language_info": {
   "codemirror_mode": {
    "name": "ipython",
    "version": 3
   },
   "file_extension": ".py",
   "mimetype": "text/x-python",
   "name": "python",
   "nbconvert_exporter": "python",
   "pygments_lexer": "ipython3",
   "version": "3.8.10"
  },
  "orig_nbformat": 4,
  "vscode": {
   "interpreter": {
    "hash": "916dbcbb3f70747c44a77c7bcd40155683ae19c65e1c03b4aa3499c5328201f1"
   }
  }
 },
 "nbformat": 4,
 "nbformat_minor": 2
}
