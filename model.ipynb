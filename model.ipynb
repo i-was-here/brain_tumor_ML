{
 "cells": [
  {
   "cell_type": "code",
   "execution_count": null,
   "metadata": {},
   "outputs": [],
   "source": [
    "class ConvolutionalNetwork(nn.Module):\n",
    "    def __init__(self):\n",
    "        super().__init__()\n",
    "        self.conv1 = nn.Conv2d(1, 6, kernel_size=2, stride=2)\n",
    "        self.conv2 = nn.Conv2d(6, 12, kernel_size=2, stride=2)\n",
    "        self.fc2 = nn.Linear(12*14*14, 2)\n",
    "\n",
    "    def forward(self, X):\n",
    "        X = F.relu(self.conv1(X))\n",
    "        X = F.max_pool2d(X, 2, 2)\n",
    "        X = F.relu(self.conv2(X))\n",
    "        X = F.max_pool2d(X, 2, 2)\n",
    "        X = X.view(-1, 12*14*14)\n",
    "        X = self.fc2(X)\n",
    "        \n",
    "        return F.log_softmax(X, dim=1)\n",
    "\n",
    "# [tensor(1121), tensor(1122), tensor(1231), tensor(1239), tensor(1246), tensor(1264), tensor(1280), tensor(1282), tensor(1280), tensor(1291)]\n",
    "#  Epochs = 10\n",
    "# Test accuracy: 93.551%"
   ]
  },
  {
   "cell_type": "code",
   "execution_count": null,
   "metadata": {},
   "outputs": [],
   "source": [
    "class ConvolutionalNetwork(nn.Module):\n",
    "    def __init__(self):\n",
    "        super().__init__()\n",
    "        self.conv1 = nn.Conv2d(1, 6, kernel_size=2, stride=2)\n",
    "        self.conv2 = nn.Conv2d(6, 16, kernel_size=2, stride=2)\n",
    "        self.fc2 = nn.Linear(16*14*14, 2)\n",
    "\n",
    "    def forward(self, X):\n",
    "        X = F.relu(self.conv1(X))\n",
    "        X = F.max_pool2d(X, 2, 2)\n",
    "        X = F.relu(self.conv2(X))\n",
    "        X = F.max_pool2d(X, 2, 2)\n",
    "        X = X.view(-1, 16*14*14)\n",
    "        X = self.fc2(X)\n",
    "        \n",
    "        return F.log_softmax(X, dim=1)\n",
    "\n",
    "# [tensor(1148), tensor(1186), tensor(1172), tensor(1246), tensor(1264), tensor(1279), tensor(1277), tensor(1309), tensor(1308), tensor(1294), tensor(1269), tensor(1305), tensor(1302), tensor(1311), tensor(1312), tensor(1304)]\n",
    "#  Epochs = 15\n",
    "# Test accuracy: 94.493%"
   ]
  }
 ],
 "metadata": {
  "language_info": {
   "name": "python"
  },
  "orig_nbformat": 4
 },
 "nbformat": 4,
 "nbformat_minor": 2
}
